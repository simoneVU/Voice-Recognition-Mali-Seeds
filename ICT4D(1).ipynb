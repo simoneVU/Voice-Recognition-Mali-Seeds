{
  "cells": [
    {
      "cell_type": "code",
      "execution_count": null,
      "metadata": {
        "colab": {
          "base_uri": "https://localhost:8080/"
        },
        "id": "mYDPmDY-lx-H",
        "outputId": "c8a54d7f-3b42-4419-d303-9ea0ffc6118c"
      },
      "outputs": [
        {
          "output_type": "stream",
          "name": "stdout",
          "text": [
            "Looking in indexes: https://pypi.org/simple, https://us-python.pkg.dev/colab-wheels/public/simple/\n",
            "Requirement already satisfied: librosa in /usr/local/lib/python3.10/dist-packages (0.10.0.post2)\n",
            "Requirement already satisfied: audioread>=2.1.9 in /usr/local/lib/python3.10/dist-packages (from librosa) (3.0.0)\n",
            "Requirement already satisfied: numpy!=1.22.0,!=1.22.1,!=1.22.2,>=1.20.3 in /usr/local/lib/python3.10/dist-packages (from librosa) (1.22.4)\n",
            "Requirement already satisfied: scipy>=1.2.0 in /usr/local/lib/python3.10/dist-packages (from librosa) (1.10.1)\n",
            "Requirement already satisfied: scikit-learn>=0.20.0 in /usr/local/lib/python3.10/dist-packages (from librosa) (1.2.2)\n",
            "Requirement already satisfied: joblib>=0.14 in /usr/local/lib/python3.10/dist-packages (from librosa) (1.2.0)\n",
            "Requirement already satisfied: decorator>=4.3.0 in /usr/local/lib/python3.10/dist-packages (from librosa) (4.4.2)\n",
            "Requirement already satisfied: numba>=0.51.0 in /usr/local/lib/python3.10/dist-packages (from librosa) (0.56.4)\n",
            "Requirement already satisfied: soundfile>=0.12.1 in /usr/local/lib/python3.10/dist-packages (from librosa) (0.12.1)\n",
            "Requirement already satisfied: pooch<1.7,>=1.0 in /usr/local/lib/python3.10/dist-packages (from librosa) (1.6.0)\n",
            "Requirement already satisfied: soxr>=0.3.2 in /usr/local/lib/python3.10/dist-packages (from librosa) (0.3.5)\n",
            "Requirement already satisfied: typing-extensions>=4.1.1 in /usr/local/lib/python3.10/dist-packages (from librosa) (4.5.0)\n",
            "Requirement already satisfied: lazy-loader>=0.1 in /usr/local/lib/python3.10/dist-packages (from librosa) (0.2)\n",
            "Requirement already satisfied: msgpack>=1.0 in /usr/local/lib/python3.10/dist-packages (from librosa) (1.0.5)\n",
            "Requirement already satisfied: llvmlite<0.40,>=0.39.0dev0 in /usr/local/lib/python3.10/dist-packages (from numba>=0.51.0->librosa) (0.39.1)\n",
            "Requirement already satisfied: setuptools in /usr/local/lib/python3.10/dist-packages (from numba>=0.51.0->librosa) (67.7.2)\n",
            "Requirement already satisfied: appdirs>=1.3.0 in /usr/local/lib/python3.10/dist-packages (from pooch<1.7,>=1.0->librosa) (1.4.4)\n",
            "Requirement already satisfied: packaging>=20.0 in /usr/local/lib/python3.10/dist-packages (from pooch<1.7,>=1.0->librosa) (23.1)\n",
            "Requirement already satisfied: requests>=2.19.0 in /usr/local/lib/python3.10/dist-packages (from pooch<1.7,>=1.0->librosa) (2.27.1)\n",
            "Requirement already satisfied: threadpoolctl>=2.0.0 in /usr/local/lib/python3.10/dist-packages (from scikit-learn>=0.20.0->librosa) (3.1.0)\n",
            "Requirement already satisfied: cffi>=1.0 in /usr/local/lib/python3.10/dist-packages (from soundfile>=0.12.1->librosa) (1.15.1)\n",
            "Requirement already satisfied: pycparser in /usr/local/lib/python3.10/dist-packages (from cffi>=1.0->soundfile>=0.12.1->librosa) (2.21)\n",
            "Requirement already satisfied: urllib3<1.27,>=1.21.1 in /usr/local/lib/python3.10/dist-packages (from requests>=2.19.0->pooch<1.7,>=1.0->librosa) (1.26.15)\n",
            "Requirement already satisfied: certifi>=2017.4.17 in /usr/local/lib/python3.10/dist-packages (from requests>=2.19.0->pooch<1.7,>=1.0->librosa) (2022.12.7)\n",
            "Requirement already satisfied: charset-normalizer~=2.0.0 in /usr/local/lib/python3.10/dist-packages (from requests>=2.19.0->pooch<1.7,>=1.0->librosa) (2.0.12)\n",
            "Requirement already satisfied: idna<4,>=2.5 in /usr/local/lib/python3.10/dist-packages (from requests>=2.19.0->pooch<1.7,>=1.0->librosa) (3.4)\n",
            "Looking in indexes: https://pypi.org/simple, https://us-python.pkg.dev/colab-wheels/public/simple/\n",
            "Requirement already satisfied: wandb in /usr/local/lib/python3.10/dist-packages (0.15.3)\n",
            "Requirement already satisfied: Click!=8.0.0,>=7.0 in /usr/local/lib/python3.10/dist-packages (from wandb) (8.1.3)\n",
            "Requirement already satisfied: GitPython!=3.1.29,>=1.0.0 in /usr/local/lib/python3.10/dist-packages (from wandb) (3.1.31)\n",
            "Requirement already satisfied: requests<3,>=2.0.0 in /usr/local/lib/python3.10/dist-packages (from wandb) (2.27.1)\n",
            "Requirement already satisfied: psutil>=5.0.0 in /usr/local/lib/python3.10/dist-packages (from wandb) (5.9.5)\n",
            "Requirement already satisfied: sentry-sdk>=1.0.0 in /usr/local/lib/python3.10/dist-packages (from wandb) (1.23.1)\n",
            "Requirement already satisfied: docker-pycreds>=0.4.0 in /usr/local/lib/python3.10/dist-packages (from wandb) (0.4.0)\n",
            "Requirement already satisfied: PyYAML in /usr/local/lib/python3.10/dist-packages (from wandb) (6.0)\n",
            "Requirement already satisfied: pathtools in /usr/local/lib/python3.10/dist-packages (from wandb) (0.1.2)\n",
            "Requirement already satisfied: setproctitle in /usr/local/lib/python3.10/dist-packages (from wandb) (1.3.2)\n",
            "Requirement already satisfied: setuptools in /usr/local/lib/python3.10/dist-packages (from wandb) (67.7.2)\n",
            "Requirement already satisfied: appdirs>=1.4.3 in /usr/local/lib/python3.10/dist-packages (from wandb) (1.4.4)\n",
            "Requirement already satisfied: protobuf!=4.21.0,<5,>=3.19.0 in /usr/local/lib/python3.10/dist-packages (from wandb) (3.20.3)\n",
            "Requirement already satisfied: six>=1.4.0 in /usr/local/lib/python3.10/dist-packages (from docker-pycreds>=0.4.0->wandb) (1.16.0)\n",
            "Requirement already satisfied: gitdb<5,>=4.0.1 in /usr/local/lib/python3.10/dist-packages (from GitPython!=3.1.29,>=1.0.0->wandb) (4.0.10)\n",
            "Requirement already satisfied: urllib3<1.27,>=1.21.1 in /usr/local/lib/python3.10/dist-packages (from requests<3,>=2.0.0->wandb) (1.26.15)\n",
            "Requirement already satisfied: certifi>=2017.4.17 in /usr/local/lib/python3.10/dist-packages (from requests<3,>=2.0.0->wandb) (2022.12.7)\n",
            "Requirement already satisfied: charset-normalizer~=2.0.0 in /usr/local/lib/python3.10/dist-packages (from requests<3,>=2.0.0->wandb) (2.0.12)\n",
            "Requirement already satisfied: idna<4,>=2.5 in /usr/local/lib/python3.10/dist-packages (from requests<3,>=2.0.0->wandb) (3.4)\n",
            "Requirement already satisfied: smmap<6,>=3.0.1 in /usr/local/lib/python3.10/dist-packages (from gitdb<5,>=4.0.1->GitPython!=3.1.29,>=1.0.0->wandb) (5.0.0)\n"
          ]
        }
      ],
      "source": [
        "#install librosa\n",
        "!pip install librosa\n",
        "!pip install wandb"
      ]
    },
    {
      "cell_type": "code",
      "execution_count": null,
      "metadata": {
        "colab": {
          "base_uri": "https://localhost:8080/"
        },
        "id": "h0423BpKwJaD",
        "outputId": "b1f3c401-4533-4514-df93-14af0c003e53"
      },
      "outputs": [
        {
          "output_type": "stream",
          "name": "stdout",
          "text": [
            "Drive already mounted at /content/drive; to attempt to forcibly remount, call drive.mount(\"/content/drive\", force_remount=True).\n"
          ]
        }
      ],
      "source": [
        "from google.colab import drive\n",
        "drive.mount('/content/drive')"
      ]
    },
    {
      "cell_type": "markdown",
      "metadata": {
        "id": "9HRWO9Eylx-J"
      },
      "source": [
        "### Pre-processing audio files and computing mel-spectrogram and audio plots "
      ]
    },
    {
      "cell_type": "code",
      "execution_count": null,
      "metadata": {
        "id": "fatRnrPg7_-m"
      },
      "outputs": [],
      "source": [
        "import os\n",
        "import librosa\n",
        "import numpy as np\n",
        "import pandas as pd\n",
        "import matplotlib.pyplot as plt\n",
        "import IPython.display as ipd\n",
        "import warnings\n",
        "import soundfile as sf\n",
        "warnings.filterwarnings('ignore')"
      ]
    },
    {
      "cell_type": "code",
      "execution_count": null,
      "metadata": {
        "id": "L8tEIy5wlx-M"
      },
      "outputs": [],
      "source": [
        "# Read .ogg audio files\n",
        "def read_audio(path):\n",
        "    y, sr = librosa.load(path, sr=16000)\n",
        "    return y, sr\n",
        "\n",
        "# Plot audio signal\n",
        "def plot_audio(y, sr):\n",
        "    plt.figure(figsize=(14, 5))\n",
        "    librosa.display.waveshow(y, sr=sr)\n",
        "    plt.show()\n",
        "\n",
        "# Plot spectrogram\n",
        "def plot_spectrogram(y, sr):\n",
        "    plt.figure(figsize=(14, 5))\n",
        "    D = librosa.amplitude_to_db(np.abs(librosa.stft(y)), ref=np.max)\n",
        "    librosa.display.specshow(D, y_axis='linear')\n",
        "    plt.colorbar(format='%+2.0f dB')\n",
        "    plt.show()\n",
        "\n",
        "# Plot mel-spectrogram\n",
        "def plot_melspectrogram(y, sr):\n",
        "    plt.figure(figsize=(14, 5))\n",
        "    S = librosa.feature.melspectrogram(y=y, sr=sr, n_fft=2048, n_mels=128, fmax=8000, hop_length=512)  \n",
        "    log_S = librosa.power_to_db(S, ref=np.max)\n",
        "    librosa.display.specshow(log_S, sr=sr, hop_length=512, x_axis='time', y_axis='mel')\n",
        "    plt.colorbar(format='%+2.0f dB')\n",
        "    plt.show()\n",
        "\n",
        "#Save mel-spectrogram\n",
        "def save_melspectrogram(y, sr, name, save_dir):\n",
        "    plt.figure(figsize=(14, 5))\n",
        "    S = librosa.feature.melspectrogram(y=y, sr=sr, n_fft=2048, n_mels=128, fmax=8000, hop_length=512)  \n",
        "    log_S = librosa.power_to_db(S, ref=np.max)\n",
        "    #Librosa display without color bar\n",
        "    librosa.display.specshow(log_S, sr=sr, hop_length=512, x_axis='time', y_axis='mel')\n",
        "    #Save without axs\n",
        "    plt.axis('off')\n",
        "\n",
        "    #Remove white space\n",
        "    plt.tight_layout()\n",
        "\n",
        "    #Resize image to 224 x 224\n",
        "    #plt.gcf().set_size_inches(2.24, 2.24)\n",
        "    \n",
        "    #save without color bar\n",
        "    plt.savefig(save_dir + name + '.png', bbox_inches='tight', transparent=True, pad_inches=0.0)\n",
        "    plt.close()\n",
        "\n",
        "#save audio signal plot\n",
        "def save_audio_plot(y, sr, name, save_dir):\n",
        "    plt.figure(figsize=(14, 5))\n",
        "    librosa.display.waveshow(y, sr=sr)\n",
        "    plt.tight_layout()\n",
        "    #plt.gcf().set_size_inches(2.24, 2.24)\n",
        "\n",
        "    plt.savefig(save_dir + name + '.png', bbox_inches='tight', pad_inches=0.0)\n",
        "    plt.close()\n"
      ]
    },
    {
      "cell_type": "code",
      "execution_count": null,
      "metadata": {
        "colab": {
          "base_uri": "https://localhost:8080/"
        },
        "id": "zjg6aQVtlx-P",
        "outputId": "28a56da6-e825-4a0c-f8b8-48c6f625ce8f"
      },
      "outputs": [
        {
          "name": "stdout",
          "output_type": "stream",
          "text": [
            "/content/drive/MyDrive/Voice recordings ICT4D/Peanut/Peanut_1.ogg\n",
            "/content/drive/MyDrive/Voice recordings ICT4D/Peanut/Peanut_2.ogg\n",
            "/content/drive/MyDrive/Voice recordings ICT4D/Peanut/Peanut_3.ogg\n",
            "/content/drive/MyDrive/Voice recordings ICT4D/Peanut/Peanut_4.ogg\n",
            "/content/drive/MyDrive/Voice recordings ICT4D/Peanut/Peanut_5.ogg\n",
            "/content/drive/MyDrive/Voice recordings ICT4D/Peanut/Peanut_6.ogg\n",
            "/content/drive/MyDrive/Voice recordings ICT4D/Peanut/Peanut_7.ogg\n",
            "/content/drive/MyDrive/Voice recordings ICT4D/Peanut/Peanut_8.ogg\n",
            "/content/drive/MyDrive/Voice recordings ICT4D/Peanut/Peanut_9.m4a\n",
            "/content/drive/MyDrive/Voice recordings ICT4D/Peanut/Peanut_10.m4a\n",
            "/content/drive/MyDrive/Voice recordings ICT4D/Peanut/Peanut_11.m4a\n",
            "/content/drive/MyDrive/Voice recordings ICT4D/Peanut/Peanut_12.m4a\n",
            "/content/drive/MyDrive/Voice recordings ICT4D/Peanut/Peanut_13.ogg\n",
            "/content/drive/MyDrive/Voice recordings ICT4D/Fonio/Fonio_1.ogg\n",
            "/content/drive/MyDrive/Voice recordings ICT4D/Fonio/Fonio_2.ogg\n",
            "/content/drive/MyDrive/Voice recordings ICT4D/Fonio/Fonio_3.ogg\n",
            "/content/drive/MyDrive/Voice recordings ICT4D/Fonio/Fonio_4.ogg\n",
            "/content/drive/MyDrive/Voice recordings ICT4D/Fonio/Fonio_5.ogg\n",
            "/content/drive/MyDrive/Voice recordings ICT4D/Fonio/Fonio_6.ogg\n",
            "/content/drive/MyDrive/Voice recordings ICT4D/Fonio/Fonio_7.ogg\n",
            "/content/drive/MyDrive/Voice recordings ICT4D/Fonio/Fonio_8.ogg\n",
            "/content/drive/MyDrive/Voice recordings ICT4D/Fonio/Fonio_9.m4a\n",
            "/content/drive/MyDrive/Voice recordings ICT4D/Fonio/Fonio_10.m4a\n",
            "/content/drive/MyDrive/Voice recordings ICT4D/Fonio/Fonio_11.m4a\n",
            "/content/drive/MyDrive/Voice recordings ICT4D/Fonio/Fonio_12.m4a\n",
            "/content/drive/MyDrive/Voice recordings ICT4D/Fonio/Fonio_13.ogg\n",
            "/content/drive/MyDrive/Voice recordings ICT4D/Okra/Okra_2.ogg\n",
            "/content/drive/MyDrive/Voice recordings ICT4D/Okra/Okra_1.ogg\n",
            "/content/drive/MyDrive/Voice recordings ICT4D/Okra/Okra_3.ogg\n",
            "/content/drive/MyDrive/Voice recordings ICT4D/Okra/Okra_4.ogg\n",
            "/content/drive/MyDrive/Voice recordings ICT4D/Okra/Okra_5.ogg\n",
            "/content/drive/MyDrive/Voice recordings ICT4D/Okra/Okra_6.ogg\n",
            "/content/drive/MyDrive/Voice recordings ICT4D/Okra/Okra_7.ogg\n",
            "/content/drive/MyDrive/Voice recordings ICT4D/Okra/Okra_8.ogg\n",
            "/content/drive/MyDrive/Voice recordings ICT4D/Okra/Okra_9.m4a\n",
            "/content/drive/MyDrive/Voice recordings ICT4D/Okra/Okra_10.m4a\n",
            "/content/drive/MyDrive/Voice recordings ICT4D/Okra/Okra_11.m4a\n",
            "/content/drive/MyDrive/Voice recordings ICT4D/Okra/Okra_12.m4a\n",
            "/content/drive/MyDrive/Voice recordings ICT4D/Okra/Okra_13.ogg\n",
            "/content/drive/MyDrive/Voice recordings ICT4D/Corn/Corn_1.ogg\n",
            "/content/drive/MyDrive/Voice recordings ICT4D/Corn/Corn_2.ogg\n",
            "/content/drive/MyDrive/Voice recordings ICT4D/Corn/Corn_3.ogg\n",
            "/content/drive/MyDrive/Voice recordings ICT4D/Corn/Corn_4.ogg\n",
            "/content/drive/MyDrive/Voice recordings ICT4D/Corn/Corn_5.ogg\n",
            "/content/drive/MyDrive/Voice recordings ICT4D/Corn/Corn_6.ogg\n",
            "/content/drive/MyDrive/Voice recordings ICT4D/Corn/Corn_7.ogg\n",
            "/content/drive/MyDrive/Voice recordings ICT4D/Corn/Corn_8.ogg\n",
            "/content/drive/MyDrive/Voice recordings ICT4D/Corn/Corn_9.m4a\n",
            "/content/drive/MyDrive/Voice recordings ICT4D/Corn/Corn_10.m4a\n",
            "/content/drive/MyDrive/Voice recordings ICT4D/Corn/Corn_11.m4a\n",
            "/content/drive/MyDrive/Voice recordings ICT4D/Corn/Corn_12.m4a\n",
            "/content/drive/MyDrive/Voice recordings ICT4D/Corn/Corn_13.ogg\n",
            "/content/drive/MyDrive/Voice recordings ICT4D/Millet/Millet_1.ogg\n",
            "/content/drive/MyDrive/Voice recordings ICT4D/Millet/Millet_2.ogg\n",
            "/content/drive/MyDrive/Voice recordings ICT4D/Millet/Millet_3.ogg\n",
            "/content/drive/MyDrive/Voice recordings ICT4D/Millet/Millet_4.ogg\n",
            "/content/drive/MyDrive/Voice recordings ICT4D/Millet/Millet_5.ogg\n",
            "/content/drive/MyDrive/Voice recordings ICT4D/Millet/Millet_6.ogg\n",
            "/content/drive/MyDrive/Voice recordings ICT4D/Millet/Millet_7.ogg\n",
            "/content/drive/MyDrive/Voice recordings ICT4D/Millet/Millet_8.ogg\n",
            "/content/drive/MyDrive/Voice recordings ICT4D/Millet/Millet_9.m4a\n",
            "/content/drive/MyDrive/Voice recordings ICT4D/Millet/Millet_10.m4a\n",
            "/content/drive/MyDrive/Voice recordings ICT4D/Millet/Millet_11.m4a\n",
            "/content/drive/MyDrive/Voice recordings ICT4D/Millet/Millet_12.m4a\n",
            "/content/drive/MyDrive/Voice recordings ICT4D/Millet/Millet_13.ogg\n",
            "/content/drive/MyDrive/Voice recordings ICT4D/Cowpea/CowPea_1.ogg\n",
            "/content/drive/MyDrive/Voice recordings ICT4D/Cowpea/CowPea_2.ogg\n",
            "/content/drive/MyDrive/Voice recordings ICT4D/Cowpea/CowPea_3.ogg\n",
            "/content/drive/MyDrive/Voice recordings ICT4D/Cowpea/CowPea_4.ogg\n",
            "/content/drive/MyDrive/Voice recordings ICT4D/Cowpea/CowPea_5.ogg\n",
            "/content/drive/MyDrive/Voice recordings ICT4D/Cowpea/CowPea_6.ogg\n",
            "/content/drive/MyDrive/Voice recordings ICT4D/Cowpea/Cowpea_7.ogg\n"
          ]
        }
      ],
      "source": [
        "#Loop through all audio files and convert them to 16 kHz 16-bit single channel with librosa\n",
        "for root, dirs, files in os.walk(\"/content/drive/MyDrive/Voice recordings ICT4D\"):\n",
        "    for file in files:\n",
        "        if file.endswith(\".ogg\") or file.endswith(\".wav\") or file.endswith(\".m4a\"):\n",
        "            path = os.path.join(root, file)\n",
        "            y, sr = read_audio(path)\n",
        "            print(path)\n",
        "            \n",
        "            y_pitch_up = librosa.effects.pitch_shift(y= y, sr = sr, n_steps=3)\n",
        "\n",
        "            y_pitch_down = librosa.effects.pitch_shift(y= y, sr = sr, n_steps=-3)\n",
        "\n",
        "            y_noise = y + 0.001*np.random.normal(0,1,len(y))\n",
        "\n",
        "            y_pitch_down_noise = y_pitch_down + 0.005*np.random.normal(0,1,len(y_pitch_down))\n",
        "\n",
        "            y_pitch_up_noise = y_pitch_up + 0.005*np.random.normal(0,1,len(y_pitch_up))\n",
        "\n",
        "\n",
        "            #Get class name from path\n",
        "            class_name = path.split(\"/\")[-2]\n",
        "\n",
        "\n",
        "            #Save mel-spectrogram\n",
        "            #Create directory if it does not exit yet\n",
        "            if not os.path.exists(\"/content/drive/MyDrive/melspectrograms/\" + class_name + \"/\"):\n",
        "                os.makedirs(\"/content/drive/MyDrive/melspectrograms/\" + class_name + \"/\")\n",
        "\n",
        "            if not os.path.exists(\"/content/drive/MyDrive/melspectrograms/\" + class_name + \"/\" + file[:-4] + \".png\"):\n",
        "              save_melspectrogram(y, sr, file[:-4], \"/content/drive/MyDrive/melspectrograms/\" + class_name + \"/\")\n",
        "              save_melspectrogram(y_pitch_up, sr, file[:-4] + \"_pitch_up\", \"/content/drive/MyDrive/melspectrograms/\" + class_name + \"/\")\n",
        "              save_melspectrogram(y_pitch_down, sr, file[:-4] + \"_pitch_down\", \"/content/drive/MyDrive/melspectrograms/\" + class_name + \"/\")\n",
        "              save_melspectrogram(y_noise, sr, file[:-4] + \"_noise\", \"/content/drive/MyDrive/melspectrograms/\" + class_name + \"/\")\n",
        "              save_melspectrogram(y_pitch_down_noise, sr, file[:-4] + \"_pitch_down_noise\", \"/content/drive/MyDrive/melspectrograms/\" + class_name + \"/\")\n",
        "              save_melspectrogram(y_pitch_up_noise, sr, file[:-4] + \"_pitch_up_noise\", \"/content/drive/MyDrive/melspectrograms/\" + class_name + \"/\")\n",
        "\n",
        "            #Save audio signal plot\n",
        "            #Create directory if it does not exit yet\n",
        "            if not os.path.exists(\"/content/drive/MyDrive/audio_plots/\" + class_name + \"/\" + file[:-4] + \"/\"):\n",
        "                os.makedirs(\"/content/drive/MyDrive/audio_plots/\" + class_name + \"/\" + file[:-4] + \"/\")\n",
        "\n",
        "            if not os.path.exists(\"/content/drive/MyDrive/audio_plots/\" + class_name + \"/\" + file[:-4] + \".png\"):\n",
        "              save_audio_plot(y, sr, file[:-4], \"/content/drive/MyDrive/audio_plots/\" + class_name + \"/\" + file[:-4] + \"/\")\n",
        "              save_audio_plot(y_pitch_up, sr, file[:-4] + \"_pitch_up\", \"/content/drive/MyDrive/audio_plots/\" + class_name + \"/\" + file[:-4] + \"/\")\n",
        "              save_audio_plot(y_pitch_down, sr, file[:-4] + \"_pitch_down\", \"/content/drive/MyDrive/audio_plots/\" + class_name + \"/\" + file[:-4] + \"/\")\n",
        "              save_audio_plot(y_noise, sr, file[:-4] + \"_noise\", \"/content/drive/MyDrive/audio_plots/\" + class_name + \"/\" + file[:-4] + \"/\")\n",
        "              save_audio_plot(y_pitch_down_noise, sr, file[:-4] + \"_pitch_down_noise\", \"/content/drive/MyDrive/audio_plots/\" + class_name + \"/\" + file[:-4] + \"/\")\n",
        "              save_audio_plot(y_pitch_up_noise, sr, file[:-4] + \"_pitch_up_noise\", \"/content/drive/MyDrive/audio_plots/\" + class_name + \"/\" + file[:-4] + \"/\")"
      ]
    },
    {
      "cell_type": "markdown",
      "metadata": {
        "id": "FwUYQBmulx-R"
      },
      "source": [
        "### Loading the data"
      ]
    },
    {
      "cell_type": "code",
      "execution_count": null,
      "metadata": {
        "id": "fqkaWYpilx-S"
      },
      "outputs": [],
      "source": [
        "import torch\n",
        "from torch.utils.data import DataLoader, Dataset\n"
      ]
    },
    {
      "cell_type": "code",
      "execution_count": null,
      "metadata": {
        "id": "Sf2snWOBlx-S"
      },
      "outputs": [],
      "source": [
        "#Load image dataset in pytorch\n",
        "import os\n",
        "from PIL import Image\n",
        "from torch.utils.data import Dataset\n",
        "import torchvision.transforms as transforms\n",
        "\n",
        "\n",
        "class MelSpectrumDataset(Dataset):\n",
        "    def __init__(self, root_dir, transform):\n",
        "        self.root_dir = root_dir\n",
        "        self.labels = sorted(os.listdir(root_dir))\n",
        "        self.transform = transform\n",
        "        #Get mapping of labels to integers\n",
        "        self.label_to_int = {label: i for i, label in enumerate(self.labels)}\n",
        "\n",
        "        #int to label mapping\n",
        "        self.label_mapping = {i: label for i, label in enumerate(self.labels)}\n",
        "\n",
        "\n",
        "\n",
        "    def __len__(self):\n",
        "        return sum(len(os.listdir(os.path.join(self.root_dir, label))) for label in self.labels)\n",
        "\n",
        "    def __getitem__(self, idx):\n",
        "        label_idx = 0\n",
        "        while idx >= len(os.listdir(os.path.join(self.root_dir, self.labels[label_idx]))):\n",
        "            idx -= len(os.listdir(os.path.join(self.root_dir, self.labels[label_idx])))\n",
        "            label_idx += 1\n",
        "        label = self.labels[label_idx]\n",
        "        label_path = os.path.join(self.root_dir, label)\n",
        "        image_name = sorted(os.listdir(label_path))[idx]\n",
        "        image_path = os.path.join(label_path, image_name)\n",
        "        image = Image.open(image_path).convert(\"RGB\")\n",
        "        # Perform any necessary image preprocessing here\n",
        "        image = self.transform(image)\n",
        "        # e.g., resizing, normalizing, etc.\n",
        "        return image, self.label_to_int[label]\n",
        "\n",
        "\n",
        "root_dir = '/content/drive/MyDrive/ICT4D/melspectrograms/'\n",
        "\n",
        "transform = transforms.Compose([\n",
        "            transforms.Resize((224,224)),\n",
        "            transforms.ToTensor(), # Convert the images to PyTorch tensors\n",
        "            transforms.Normalize(mean=[0.485, 0.456, 0.406], std=[0.229, 0.224, 0.225])\n",
        "        ])\n",
        "\n",
        "fine_tuning_set = MelSpectrumDataset(root_dir, transform)\n",
        "image, label = fine_tuning_set[0]"
      ]
    },
    {
      "cell_type": "code",
      "execution_count": null,
      "metadata": {
        "colab": {
          "base_uri": "https://localhost:8080/",
          "height": 423
        },
        "id": "4WaOk7Njlx-U",
        "outputId": "9987c3be-effb-4c4d-84a0-7cae020148d8"
      },
      "outputs": [
        {
          "output_type": "stream",
          "name": "stderr",
          "text": [
            "WARNING:matplotlib.image:Clipping input data to the valid range for imshow with RGB data ([0..1] for floats or [0..255] for integers).\n"
          ]
        },
        {
          "output_type": "display_data",
          "data": {
            "text/plain": [
              "<Figure size 640x480 with 1 Axes>"
            ],
            "image/png": "[encoded data removed]"
          },
          "metadata": {}
        }
      ],
      "source": [
        "#Display pytorch image\n",
        "image_np = image.permute(1, 2, 0).numpy()\n",
        "\n",
        "# Display the image using matplotlib\n",
        "plt.imshow(image_np)\n",
        "plt.axis('off')\n",
        "plt.show()"
      ]
    },
    {
      "cell_type": "markdown",
      "metadata": {
        "id": "GCc5OWR7lx-V"
      },
      "source": [
        "### Fine-tuning the model"
      ]
    },
    {
      "cell_type": "code",
      "execution_count": null,
      "metadata": {
        "colab": {
          "base_uri": "https://localhost:8080/"
        },
        "id": "glKicBl8lx-X",
        "outputId": "9a7e3a9e-dbf4-4480-998e-63cbbfcb693d"
      },
      "outputs": [
        {
          "output_type": "stream",
          "name": "stdout",
          "text": [
            "Looking in indexes: https://pypi.org/simple, https://us-python.pkg.dev/colab-wheels/public/simple/\n",
            "Requirement already satisfied: timm in /usr/local/lib/python3.10/dist-packages (0.9.2)\n",
            "Requirement already satisfied: torch>=1.7 in /usr/local/lib/python3.10/dist-packages (from timm) (2.0.1+cu118)\n",
            "Requirement already satisfied: torchvision in /usr/local/lib/python3.10/dist-packages (from timm) (0.15.2+cu118)\n",
            "Requirement already satisfied: pyyaml in /usr/local/lib/python3.10/dist-packages (from timm) (6.0)\n",
            "Requirement already satisfied: huggingface-hub in /usr/local/lib/python3.10/dist-packages (from timm) (0.14.1)\n",
            "Requirement already satisfied: safetensors in /usr/local/lib/python3.10/dist-packages (from timm) (0.3.1)\n",
            "Requirement already satisfied: filelock in /usr/local/lib/python3.10/dist-packages (from torch>=1.7->timm) (3.12.0)\n",
            "Requirement already satisfied: typing-extensions in /usr/local/lib/python3.10/dist-packages (from torch>=1.7->timm) (4.5.0)\n",
            "Requirement already satisfied: sympy in /usr/local/lib/python3.10/dist-packages (from torch>=1.7->timm) (1.11.1)\n",
            "Requirement already satisfied: networkx in /usr/local/lib/python3.10/dist-packages (from torch>=1.7->timm) (3.1)\n",
            "Requirement already satisfied: jinja2 in /usr/local/lib/python3.10/dist-packages (from torch>=1.7->timm) (3.1.2)\n",
            "Requirement already satisfied: triton==2.0.0 in /usr/local/lib/python3.10/dist-packages (from torch>=1.7->timm) (2.0.0)\n",
            "Requirement already satisfied: cmake in /usr/local/lib/python3.10/dist-packages (from triton==2.0.0->torch>=1.7->timm) (3.25.2)\n",
            "Requirement already satisfied: lit in /usr/local/lib/python3.10/dist-packages (from triton==2.0.0->torch>=1.7->timm) (16.0.5)\n",
            "Requirement already satisfied: fsspec in /usr/local/lib/python3.10/dist-packages (from huggingface-hub->timm) (2023.4.0)\n",
            "Requirement already satisfied: requests in /usr/local/lib/python3.10/dist-packages (from huggingface-hub->timm) (2.27.1)\n",
            "Requirement already satisfied: tqdm>=4.42.1 in /usr/local/lib/python3.10/dist-packages (from huggingface-hub->timm) (4.65.0)\n",
            "Requirement already satisfied: packaging>=20.9 in /usr/local/lib/python3.10/dist-packages (from huggingface-hub->timm) (23.1)\n",
            "Requirement already satisfied: numpy in /usr/local/lib/python3.10/dist-packages (from torchvision->timm) (1.22.4)\n",
            "Requirement already satisfied: pillow!=8.3.*,>=5.3.0 in /usr/local/lib/python3.10/dist-packages (from torchvision->timm) (8.4.0)\n",
            "Requirement already satisfied: MarkupSafe>=2.0 in /usr/local/lib/python3.10/dist-packages (from jinja2->torch>=1.7->timm) (2.1.2)\n",
            "Requirement already satisfied: urllib3<1.27,>=1.21.1 in /usr/local/lib/python3.10/dist-packages (from requests->huggingface-hub->timm) (1.26.15)\n",
            "Requirement already satisfied: certifi>=2017.4.17 in /usr/local/lib/python3.10/dist-packages (from requests->huggingface-hub->timm) (2022.12.7)\n",
            "Requirement already satisfied: charset-normalizer~=2.0.0 in /usr/local/lib/python3.10/dist-packages (from requests->huggingface-hub->timm) (2.0.12)\n",
            "Requirement already satisfied: idna<4,>=2.5 in /usr/local/lib/python3.10/dist-packages (from requests->huggingface-hub->timm) (3.4)\n",
            "Requirement already satisfied: mpmath>=0.19 in /usr/local/lib/python3.10/dist-packages (from sympy->torch>=1.7->timm) (1.3.0)\n"
          ]
        }
      ],
      "source": [
        "!pip install timm"
      ]
    },
    {
      "cell_type": "code",
      "execution_count": null,
      "metadata": {
        "colab": {
          "base_uri": "https://localhost:8080/"
        },
        "id": "1knhZwSdlx-Y",
        "outputId": "bdab3652-715f-4f6c-c6a0-7151c318bf8b"
      },
      "outputs": [
        {
          "output_type": "stream",
          "name": "stderr",
          "text": [
            "\u001b[34m\u001b[1mwandb\u001b[0m: Currently logged in as: \u001b[33mcolombosimone98\u001b[0m (\u001b[33mict4d\u001b[0m). Use \u001b[1m`wandb login --relogin`\u001b[0m to force relogin\n",
            "\u001b[34m\u001b[1mwandb\u001b[0m: \u001b[33mWARNING\u001b[0m If you're specifying your api key in code, ensure this code is not shared publicly.\n",
            "\u001b[34m\u001b[1mwandb\u001b[0m: \u001b[33mWARNING\u001b[0m Consider setting the WANDB_API_KEY environment variable, or running `wandb login` from the command line.\n",
            "\u001b[34m\u001b[1mwandb\u001b[0m: Appending key for api.wandb.ai to your netrc file: /root/.netrc\n"
          ]
        }
      ],
      "source": [
        "import wandb\n",
        "wandb.login(key='6fbe3a2bb5c910a6a87fbaae82f15d05fd0632ac')\n",
        "project_name = 'diffusion-detection'"
      ]
    },
    {
      "cell_type": "code",
      "execution_count": null,
      "metadata": {
        "id": "rSwcSzDnlx-a"
      },
      "outputs": [],
      "source": [
        "import timm\n",
        "import torch.nn  as nn\n",
        "import tqdm\n",
        "import copy\n",
        "\n",
        "#Set random seeds\n",
        "torch.manual_seed(0)\n",
        "torch.cuda.manual_seed_all(0)\n",
        "np.random.seed(0)"
      ]
    },
    {
      "cell_type": "code",
      "execution_count": null,
      "metadata": {
        "id": "KMCAc0y1lx-b"
      },
      "outputs": [],
      "source": [
        "class ConvNeXt(nn.Module):\n",
        "    def __init__(self):\n",
        "        super(ConvNeXt, self).__init__()\n",
        "        self.base_model = timm.create_model('convnext_small', pretrained=True, in_chans=3, num_classes=10, drop_rate=0.3)\n",
        "        self.in_features = self.base_model.get_classifier().in_features\n",
        "        print(self.in_features)\n",
        "        self.base_model.fc = nn.Sequential(\n",
        "            nn.BatchNorm1d(self.in_features), \n",
        "            nn.Linear(in_features=self.in_features, out_features = 512, bias=False), \n",
        "            nn.ReLU(),\n",
        "            nn.BatchNorm1d(512), \n",
        "            nn.Dropout(0.5),\n",
        "            nn.Linear(in_features=512, out_features=10, bias=False)\n",
        "        )\n",
        "        #self.fc0 = nn.Linear(512,128)\n",
        "        #self.drp = nn.Dropout(0.5)\n",
        "        #self.fc1 = nn.Linear(128, 10)\n",
        "        #self.relu = nn.ReLU()\n",
        "        #self.softmax = nn.Softmax()\n",
        "        \n",
        "    def forward(self, input):\n",
        "        outputs = self.base_model(input)\n",
        "        #outputs = self.drp(self.relu(self.fc(outputs))) \n",
        "        #outputs = self.drp(self.relu(self.fc0(outputs)))\n",
        "        #outputs = self.softmax(self.fc1(outputs))\n",
        "        return outputs"
      ]
    },
    {
      "cell_type": "code",
      "execution_count": null,
      "metadata": {
        "colab": {
          "base_uri": "https://localhost:8080/",
          "height": 342,
          "referenced_widgets": [
            "b27a1b42c7324b92aea5a208ada88b21",
            "de41b1da175b47d798cab082797eaa6f",
            "f4d43352ca6241af8bd45834d1fbc807",
            "5dd16204378a4607aad7b1cfc85ec367",
            "cf3e91d67c2e42ee842b67ff225cb420",
            "439de278589c4b34865ab2e2d39b1328",
            "23ef2d2afbd14a2caabe099142a83703",
            "9f24a28aef134d53b9de89d83563bd0d"
          ]
        },
        "id": "IGPu_pN_lx-b",
        "outputId": "55b667ca-6e4d-432d-a5e8-be8b0c4ffe41"
      },
      "outputs": [
        {
          "output_type": "stream",
          "name": "stdout",
          "text": [
            "768\n"
          ]
        },
        {
          "output_type": "display_data",
          "data": {
            "text/plain": [
              "<IPython.core.display.HTML object>"
            ],
            "text/html": [
              "Finishing last run (ID:c5wqn3vw) before initializing another..."
            ]
          },
          "metadata": {}
        },
        {
          "output_type": "display_data",
          "data": {
            "text/plain": [
              "<IPython.core.display.HTML object>"
            ],
            "text/html": [
              "Waiting for W&B process to finish... <strong style=\"color:green\">(success).</strong>"
            ]
          },
          "metadata": {}
        },
        {
          "output_type": "display_data",
          "data": {
            "text/plain": [
              "VBox(children=(Label(value='0.001 MB of 0.009 MB uploaded (0.000 MB deduped)\\r'), FloatProgress(value=0.123318…"
            ],
            "application/vnd.jupyter.widget-view+json": {
              "version_major": 2,
              "version_minor": 0,
              "model_id": "b27a1b42c7324b92aea5a208ada88b21"
            }
          },
          "metadata": {}
        },
        {
          "output_type": "display_data",
          "data": {
            "text/plain": [
              "<IPython.core.display.HTML object>"
            ],
            "text/html": [
              " View run <strong style=\"color:#cdcd00\">19 samples fine-tuning 10-classes ConvNeXt layerNorm in head</strong> at: <a href='https://wandb.ai/ict4d/diffusion-detection/runs/c5wqn3vw' target=\"_blank\">https://wandb.ai/ict4d/diffusion-detection/runs/c5wqn3vw</a><br/>Synced 5 W&B file(s), 0 media file(s), 0 artifact file(s) and 0 other file(s)"
            ]
          },
          "metadata": {}
        },
        {
          "output_type": "display_data",
          "data": {
            "text/plain": [
              "<IPython.core.display.HTML object>"
            ],
            "text/html": [
              "Find logs at: <code>./wandb/run-20230518_160140-c5wqn3vw/logs</code>"
            ]
          },
          "metadata": {}
        },
        {
          "output_type": "display_data",
          "data": {
            "text/plain": [
              "<IPython.core.display.HTML object>"
            ],
            "text/html": [
              "Successfully finished last run (ID:c5wqn3vw). Initializing new run:<br/>"
            ]
          },
          "metadata": {}
        },
        {
          "output_type": "display_data",
          "data": {
            "text/plain": [
              "<IPython.core.display.HTML object>"
            ],
            "text/html": [
              "Tracking run with wandb version 0.15.3"
            ]
          },
          "metadata": {}
        },
        {
          "output_type": "display_data",
          "data": {
            "text/plain": [
              "<IPython.core.display.HTML object>"
            ],
            "text/html": [
              "Run data is saved locally in <code>/content/wandb/run-20230518_160253-7x08fwau</code>"
            ]
          },
          "metadata": {}
        },
        {
          "output_type": "display_data",
          "data": {
            "text/plain": [
              "<IPython.core.display.HTML object>"
            ],
            "text/html": [
              "Syncing run <strong><a href='https://wandb.ai/ict4d/diffusion-detection/runs/7x08fwau' target=\"_blank\">19 samples fine-tuning 10-classes ConvNeXt layerNorm in head</a></strong> to <a href='https://wandb.ai/ict4d/diffusion-detection' target=\"_blank\">Weights & Biases</a> (<a href='https://wandb.me/run' target=\"_blank\">docs</a>)<br/>"
            ]
          },
          "metadata": {}
        },
        {
          "output_type": "display_data",
          "data": {
            "text/plain": [
              "<IPython.core.display.HTML object>"
            ],
            "text/html": [
              " View project at <a href='https://wandb.ai/ict4d/diffusion-detection' target=\"_blank\">https://wandb.ai/ict4d/diffusion-detection</a>"
            ]
          },
          "metadata": {}
        },
        {
          "output_type": "display_data",
          "data": {
            "text/plain": [
              "<IPython.core.display.HTML object>"
            ],
            "text/html": [
              " View run at <a href='https://wandb.ai/ict4d/diffusion-detection/runs/7x08fwau' target=\"_blank\">https://wandb.ai/ict4d/diffusion-detection/runs/7x08fwau</a>"
            ]
          },
          "metadata": {}
        },
        {
          "output_type": "stream",
          "name": "stderr",
          "text": [
            "100%|██████████| 300/300 [2:44:15<00:00, 32.85s/it]\n"
          ]
        }
      ],
      "source": [
        "device = torch.device(\"cuda:0\" if torch.cuda.is_available() else \"cpu\")\n",
        "model = ConvNeXt().to(device)\n",
        "\n",
        "\"\"\"\n",
        "#Freeze backbone weights\n",
        "for param in model.base_model.parameters():\n",
        "    param.requires_grad = False\n",
        "\n",
        "#Fine-tune the last fc layer\n",
        "for param in model.fc.parameters():\n",
        "    param.requires_grad = True\n",
        "\n",
        "for param in model.fc0.parameters():\n",
        "    param.requires_grad = True\n",
        "\n",
        "for param in model.fc1.parameters():\n",
        "    param.requires_grad = True\n",
        "\"\"\"\n",
        "#Define loss function and optimizer\n",
        "import torch.optim as optim\n",
        "\n",
        "criterion = nn.CrossEntropyLoss()\n",
        "optimizer = optim.AdamW(model.parameters(), lr=0.0001)\n",
        "\n",
        "#Split data in train and validation set and test set\n",
        "from sklearn.model_selection import train_test_split\n",
        "train_set, val_set = train_test_split(fine_tuning_set, test_size=0.1, random_state=42, shuffle=True)\n",
        "\n",
        "train_loader = torch.utils.data.DataLoader(train_set, batch_size=16, shuffle=True)\n",
        "val_loader = torch.utils.data.DataLoader(val_set, batch_size=16, shuffle=True)\n",
        "\n",
        "\n",
        "def train_validate_model(model, criterion, optimizer, num_epochs=300):\n",
        "    loss_list = []\n",
        "    acc_list = []\n",
        "\n",
        "    best_val_acc = 0.0\n",
        "    best_model = None\n",
        "    patience = 5\n",
        "    patience_counter = 0\n",
        "    avg_loss_val,avg_acc_val = [],[]\n",
        "    wandb.init(project=project_name, name = '19 samples fine-tuning 10-classes ConvNeXt layerNorm in head')\n",
        "    for epoch in tqdm.tqdm(range(num_epochs)):\n",
        "\n",
        "        model.train()\n",
        "        for i, (images, labels) in enumerate(train_loader):\n",
        "            # Run the forward pass\n",
        "\n",
        "            images = images.to(device)\n",
        "            labels = labels.to(device)\n",
        "\n",
        "            outputs = model(images)\n",
        "            loss = criterion(outputs, labels)\n",
        "            loss_list.append(loss.item())\n",
        "\n",
        "            # Backprop and perform Adam optimisation\n",
        "            optimizer.zero_grad()\n",
        "            loss.backward()\n",
        "            optimizer.step()\n",
        "\n",
        "            # Track the accuracy\n",
        "            total = labels.size(0)\n",
        "            _, predicted = torch.max(outputs.data, 1)\n",
        "            correct = (predicted == labels).sum().item()\n",
        "            acc_list.append(correct / total)\n",
        "\n",
        "            wandb.log({'train_loss_step':  loss.item(), 'train_acc_step':(correct / total)})\n",
        "\n",
        "        wandb.log({'train_loss':  np.mean(loss_list), 'train_acc':np.mean(acc_list)})\n",
        "        \n",
        "        #Validate the model\n",
        "        model.eval()\n",
        "        with torch.no_grad():\n",
        "            correct = 0\n",
        "            total = 0\n",
        "            for images, labels in val_loader:\n",
        "                images = images.to(device)\n",
        "                labels = labels.to(device)\n",
        "                outputs = model(images)\n",
        "                loss = criterion(outputs, labels)\n",
        "                _, predicted = torch.max(outputs.data, 1)\n",
        "                total += labels.size(0)\n",
        "                correct += (predicted == labels).sum().item()\n",
        "                accuracy =  correct / total\n",
        "                avg_loss_val.append(loss.item())\n",
        "                avg_acc_val.append(accuracy)\n",
        "                \n",
        "            if np.mean(avg_acc_val) > best_val_acc:\n",
        "                best_val_acc = np.mean(avg_acc_val)\n",
        "                best_model = copy.deepcopy(model.state_dict())\n",
        "                patience_counter = 0\n",
        "            else:\n",
        "                patience_counter += 1\n",
        "            \n",
        "            # Check if the training process should be stopped early\n",
        "            if patience_counter == patience:\n",
        "                break\n",
        "\n",
        "        wandb.log({'val_loss_step': np.mean(avg_loss_val), 'val_acc_step':np.mean(avg_acc_val)}) \n",
        "                        \n",
        "    if best_model != None:\n",
        "        torch.save(best_model, 'model_checkpoint.ckpt')\n",
        "    else:\n",
        "        torch.save(model.state_dict(), 'model_checkpoint.ckpt')    \n",
        "    \n",
        "#Train the model\n",
        "train_validate_model(model, criterion, optimizer, num_epochs=300)"
      ]
    },
    {
      "cell_type": "code",
      "execution_count": null,
      "metadata": {
        "id": "07JhhU-ntNRh"
      },
      "outputs": [],
      "source": [
        "wandb.finish()"
      ]
    },
    {
      "cell_type": "code",
      "source": [
        "from sklearn.metrics import confusion_matrix\n",
        "import seaborn as sns\n",
        "device = torch.device(\"cuda:0\" if torch.cuda.is_available() else \"cpu\")\n",
        "#Test model on a single image \n",
        "root_dir = '/content/drive/MyDrive/Voice recordings ICT4D/melspectrograms_test'\n",
        "test_set = MelSpectrumDataset(root_dir, transform)\n",
        "image, label = test_set[0]   \n",
        "model = ConvNeXt().to(device)\n",
        "model.load_state_dict(torch.load('/content/drive/MyDrive/Voice recordings ICT4D/model_checkpoint.ckpt'))\n",
        "#Test model `\n",
        "\n",
        "model.eval()\n",
        "with torch.no_grad():\n",
        "    #Test model on test set\n",
        "    test_loader = torch.utils.data.DataLoader(test_set, batch_size=16, shuffle=True)\n",
        "\n",
        "    correct = 0\n",
        "    total = 0\n",
        "\n",
        "    wandb.init(project=project_name, name='evaluating best model checkpoint')\n",
        "    label_predictions = []\n",
        "    label_mapping = test_set.label_mapping\n",
        "    print(label_mapping)\n",
        "\n",
        "    for images, labels in test_loader:\n",
        "        images = images.to(device)\n",
        "        labels = labels.to(device)\n",
        "        outputs = model(images)\n",
        "        _, predicted = torch.max(outputs.data, 1)\n",
        "        total += labels.size(0)\n",
        "        correct += (predicted == labels).sum().item()\n",
        "\n",
        "        # Append labels and predictions to the list\n",
        "        label_predictions.extend(zip(labels.tolist(), predicted.tolist()))\n",
        "\n",
        "    # Create a dataframe from the list\n",
        "    df = pd.DataFrame(label_predictions, columns=['labels', 'predictions'])\n",
        "\n",
        "    # Log the dataframe\n",
        "    wandb.log({'label_predictions': wandb.Table(dataframe=df)})\n",
        "\n",
        "    # Create numpy arrays for labels and predictions\n",
        "    true_labels = np.array([label_mapping[label] for label in df['labels']])\n",
        "    predicted_labels = np.array([label_mapping[label] for label in df['predictions']])\n",
        "\n",
        "    # Get unique label names\n",
        "    label_names = list(label_mapping.values())\n",
        "\n",
        "    # Calculate confusion matrix\n",
        "    cm = confusion_matrix(true_labels, predicted_labels, labels=label_names)\n",
        "\n",
        "    # Convert confusion matrix to DataFrame\n",
        "    cm_df = pd.DataFrame(cm, index=label_names, columns=label_names)\n",
        "\n",
        "    # Plot confusion matrix\n",
        "    plt.figure(figsize=(10, 8))\n",
        "    sns.heatmap(cm_df, annot=True, fmt='d', cmap='Blues')\n",
        "    plt.xlabel('Predicted Labels')\n",
        "    plt.ylabel('True Labels')\n",
        "    plt.title('Confusion Matrix')\n",
        "    plt.tight_layout()\n",
        "\n",
        "    # Log the confusion matrix as an image\n",
        "    wandb.log({'confusion_matrix': wandb.Image(plt)})\n",
        "\n",
        "    # Calculate mean test accuracy\n",
        "    test_acc = correct / total\n",
        "    wandb.log({'test_acc_mean': test_acc})\n",
        "wandb.finish()"
      ],
      "metadata": {
        "id": "FuD8-dQuOVw5",
        "colab": {
          "base_uri": "https://localhost:8080/",
          "height": 1000,
          "referenced_widgets": [
            "0dbe5debe06d468d8419ce6576f034c7",
            "b37db8ee31074fc4a742bbe1b8ed13e8",
            "61507f99709b45e0bc6b554fb77dfa1e",
            "e1f16ce1691944a88f92da7a286f4784",
            "7fda98c159bb44fb8e998e7a7e30ed32",
            "e3c6936931b34489bb03bc3d3b0c047b",
            "79fd117dcc064abab839be56c20933cd",
            "1b1ee17b4ffc46e197fe250b273adb9c"
          ]
        },
        "outputId": "bf293172-fdc3-400d-e666-4a7a8ba192b6"
      },
      "execution_count": null,
      "outputs": [
        {
          "output_type": "stream",
          "name": "stdout",
          "text": [
            "768\n"
          ]
        },
        {
          "output_type": "display_data",
          "data": {
            "text/plain": [
              "<IPython.core.display.HTML object>"
            ],
            "text/html": [
              "Finishing last run (ID:b2cavhyw) before initializing another..."
            ]
          },
          "metadata": {}
        },
        {
          "output_type": "display_data",
          "data": {
            "text/plain": [
              "<IPython.core.display.HTML object>"
            ],
            "text/html": [
              "Waiting for W&B process to finish... <strong style=\"color:green\">(success).</strong>"
            ]
          },
          "metadata": {}
        },
        {
          "output_type": "display_data",
          "data": {
            "text/plain": [
              "VBox(children=(Label(value='0.001 MB of 0.001 MB uploaded (0.000 MB deduped)\\r'), FloatProgress(value=1.0, max…"
            ],
            "application/vnd.jupyter.widget-view+json": {
              "version_major": 2,
              "version_minor": 0,
              "model_id": "0dbe5debe06d468d8419ce6576f034c7"
            }
          },
          "metadata": {}
        },
        {
          "output_type": "display_data",
          "data": {
            "text/plain": [
              "<IPython.core.display.HTML object>"
            ],
            "text/html": [
              " View run <strong style=\"color:#cdcd00\">evaluating best model checkpoint</strong> at: <a href='https://wandb.ai/ict4d/diffusion-detection/runs/b2cavhyw' target=\"_blank\">https://wandb.ai/ict4d/diffusion-detection/runs/b2cavhyw</a><br/>Synced 5 W&B file(s), 0 media file(s), 0 artifact file(s) and 0 other file(s)"
            ]
          },
          "metadata": {}
        },
        {
          "output_type": "display_data",
          "data": {
            "text/plain": [
              "<IPython.core.display.HTML object>"
            ],
            "text/html": [
              "Find logs at: <code>./wandb/run-20230520_123046-b2cavhyw/logs</code>"
            ]
          },
          "metadata": {}
        },
        {
          "output_type": "display_data",
          "data": {
            "text/plain": [
              "<IPython.core.display.HTML object>"
            ],
            "text/html": [
              "Successfully finished last run (ID:b2cavhyw). Initializing new run:<br/>"
            ]
          },
          "metadata": {}
        },
        {
          "output_type": "display_data",
          "data": {
            "text/plain": [
              "<IPython.core.display.HTML object>"
            ],
            "text/html": [
              "Tracking run with wandb version 0.15.3"
            ]
          },
          "metadata": {}
        },
        {
          "output_type": "display_data",
          "data": {
            "text/plain": [
              "<IPython.core.display.HTML object>"
            ],
            "text/html": [
              "Run data is saved locally in <code>/content/wandb/run-20230520_123054-48h1q6t3</code>"
            ]
          },
          "metadata": {}
        },
        {
          "output_type": "display_data",
          "data": {
            "text/plain": [
              "<IPython.core.display.HTML object>"
            ],
            "text/html": [
              "Syncing run <strong><a href='https://wandb.ai/ict4d/diffusion-detection/runs/48h1q6t3' target=\"_blank\">evaluating best model checkpoint</a></strong> to <a href='https://wandb.ai/ict4d/diffusion-detection' target=\"_blank\">Weights & Biases</a> (<a href='https://wandb.me/run' target=\"_blank\">docs</a>)<br/>"
            ]
          },
          "metadata": {}
        },
        {
          "output_type": "display_data",
          "data": {
            "text/plain": [
              "<IPython.core.display.HTML object>"
            ],
            "text/html": [
              " View project at <a href='https://wandb.ai/ict4d/diffusion-detection' target=\"_blank\">https://wandb.ai/ict4d/diffusion-detection</a>"
            ]
          },
          "metadata": {}
        },
        {
          "output_type": "display_data",
          "data": {
            "text/plain": [
              "<IPython.core.display.HTML object>"
            ],
            "text/html": [
              " View run at <a href='https://wandb.ai/ict4d/diffusion-detection/runs/48h1q6t3' target=\"_blank\">https://wandb.ai/ict4d/diffusion-detection/runs/48h1q6t3</a>"
            ]
          },
          "metadata": {}
        },
        {
          "output_type": "stream",
          "name": "stdout",
          "text": [
            "{0: 'Corn', 1: 'Cowpea', 2: 'Fonio', 3: 'Millet', 4: 'Okra', 5: 'Peanut', 6: 'Rice', 7: 'Sesame', 8: 'Sorghum', 9: 'Soy'}\n"
          ]
        },
        {
          "output_type": "display_data",
          "data": {
            "text/plain": [
              "<IPython.core.display.HTML object>"
            ],
            "text/html": [
              "Waiting for W&B process to finish... <strong style=\"color:green\">(success).</strong>"
            ]
          },
          "metadata": {}
        },
        {
          "output_type": "display_data",
          "data": {
            "text/plain": [
              "<IPython.core.display.HTML object>"
            ],
            "text/html": [
              "<style>\n",
              "    table.wandb td:nth-child(1) { padding: 0 10px; text-align: left ; width: auto;} td:nth-child(2) {text-align: left ; width: 100%}\n",
              "    .wandb-row { display: flex; flex-direction: row; flex-wrap: wrap; justify-content: flex-start; width: 100% }\n",
              "    .wandb-col { display: flex; flex-direction: column; flex-basis: 100%; flex: 1; padding: 10px; }\n",
              "    </style>\n",
              "<div class=\"wandb-row\"><div class=\"wandb-col\"><h3>Run history:</h3><br/><table class=\"wandb\"><tr><td>test_acc_mean</td><td>▁</td></tr></table><br/></div><div class=\"wandb-col\"><h3>Run summary:</h3><br/><table class=\"wandb\"><tr><td>test_acc_mean</td><td>0.8803</td></tr></table><br/></div></div>"
            ]
          },
          "metadata": {}
        },
        {
          "output_type": "display_data",
          "data": {
            "text/plain": [
              "<IPython.core.display.HTML object>"
            ],
            "text/html": [
              " View run <strong style=\"color:#cdcd00\">evaluating best model checkpoint</strong> at: <a href='https://wandb.ai/ict4d/diffusion-detection/runs/48h1q6t3' target=\"_blank\">https://wandb.ai/ict4d/diffusion-detection/runs/48h1q6t3</a><br/>Synced 5 W&B file(s), 2 media file(s), 1 artifact file(s) and 0 other file(s)"
            ]
          },
          "metadata": {}
        },
        {
          "output_type": "display_data",
          "data": {
            "text/plain": [
              "<IPython.core.display.HTML object>"
            ],
            "text/html": [
              "Find logs at: <code>./wandb/run-20230520_123054-48h1q6t3/logs</code>"
            ]
          },
          "metadata": {}
        },
        {
          "output_type": "display_data",
          "data": {
            "text/plain": [
              "<Figure size 1000x800 with 2 Axes>"
            ],
            "image/png": "[encoded data removed]"
          },
          "metadata": {}
        }
      ]
    },
    {
      "cell_type": "code",
      "source": [],
      "metadata": {
        "id": "98a2r4Vt8bNj"
      },
      "execution_count": null,
      "outputs": []
    }
  ],
  "metadata": {
    "accelerator": "GPU",
    "colab": {
      "provenance": [],
      "gpuType": "T4"
    },
    "gpuClass": "standard",
    "kernelspec": {
      "display_name": "py10",
      "language": "python",
      "name": "python3"
    },
    "language_info": {
      "codemirror_mode": {
        "name": "ipython",
        "version": 3
      },
      "file_extension": ".py",
      "mimetype": "text/x-python",
      "name": "python",
      "nbconvert_exporter": "python",
      "pygments_lexer": "ipython3",
      "version": "3.10.6"
    },
    "widgets": {
      "application/vnd.jupyter.widget-state+json": {
        "b27a1b42c7324b92aea5a208ada88b21": {
          "model_module": "@jupyter-widgets/controls",
          "model_name": "VBoxModel",
          "model_module_version": "1.5.0",
          "state": {
            "_dom_classes": [],
            "_model_module": "@jupyter-widgets/controls",
            "_model_module_version": "1.5.0",
            "_model_name": "VBoxModel",
            "_view_count": null,
            "_view_module": "@jupyter-widgets/controls",
            "_view_module_version": "1.5.0",
            "_view_name": "VBoxView",
            "box_style": "",
            "children": [
              "IPY_MODEL_de41b1da175b47d798cab082797eaa6f",
              "IPY_MODEL_f4d43352ca6241af8bd45834d1fbc807"
            ],
            "layout": "IPY_MODEL_5dd16204378a4607aad7b1cfc85ec367"
          }
        },
        "de41b1da175b47d798cab082797eaa6f": {
          "model_module": "@jupyter-widgets/controls",
          "model_name": "LabelModel",
          "model_module_version": "1.5.0",
          "state": {
            "_dom_classes": [],
            "_model_module": "@jupyter-widgets/controls",
            "_model_module_version": "1.5.0",
            "_model_name": "LabelModel",
            "_view_count": null,
            "_view_module": "@jupyter-widgets/controls",
            "_view_module_version": "1.5.0",
            "_view_name": "LabelView",
            "description": "",
            "description_tooltip": null,
            "layout": "IPY_MODEL_cf3e91d67c2e42ee842b67ff225cb420",
            "placeholder": "​",
            "style": "IPY_MODEL_439de278589c4b34865ab2e2d39b1328",
            "value": "0.001 MB of 0.009 MB uploaded (0.000 MB deduped)\r"
          }
        },
        "f4d43352ca6241af8bd45834d1fbc807": {
          "model_module": "@jupyter-widgets/controls",
          "model_name": "FloatProgressModel",
          "model_module_version": "1.5.0",
          "state": {
            "_dom_classes": [],
            "_model_module": "@jupyter-widgets/controls",
            "_model_module_version": "1.5.0",
            "_model_name": "FloatProgressModel",
            "_view_count": null,
            "_view_module": "@jupyter-widgets/controls",
            "_view_module_version": "1.5.0",
            "_view_name": "ProgressView",
            "bar_style": "",
            "description": "",
            "description_tooltip": null,
            "layout": "IPY_MODEL_23ef2d2afbd14a2caabe099142a83703",
            "max": 1,
            "min": 0,
            "orientation": "horizontal",
            "style": "IPY_MODEL_9f24a28aef134d53b9de89d83563bd0d",
            "value": 0.12331814810890984
          }
        },
        "5dd16204378a4607aad7b1cfc85ec367": {
          "model_module": "@jupyter-widgets/base",
          "model_name": "LayoutModel",
          "model_module_version": "1.2.0",
          "state": {
            "_model_module": "@jupyter-widgets/base",
            "_model_module_version": "1.2.0",
            "_model_name": "LayoutModel",
            "_view_count": null,
            "_view_module": "@jupyter-widgets/base",
            "_view_module_version": "1.2.0",
            "_view_name": "LayoutView",
            "align_content": null,
            "align_items": null,
            "align_self": null,
            "border": null,
            "bottom": null,
            "display": null,
            "flex": null,
            "flex_flow": null,
            "grid_area": null,
            "grid_auto_columns": null,
            "grid_auto_flow": null,
            "grid_auto_rows": null,
            "grid_column": null,
            "grid_gap": null,
            "grid_row": null,
            "grid_template_areas": null,
            "grid_template_columns": null,
            "grid_template_rows": null,
            "height": null,
            "justify_content": null,
            "justify_items": null,
            "left": null,
            "margin": null,
            "max_height": null,
            "max_width": null,
            "min_height": null,
            "min_width": null,
            "object_fit": null,
            "object_position": null,
            "order": null,
            "overflow": null,
            "overflow_x": null,
            "overflow_y": null,
            "padding": null,
            "right": null,
            "top": null,
            "visibility": null,
            "width": null
          }
        },
        "cf3e91d67c2e42ee842b67ff225cb420": {
          "model_module": "@jupyter-widgets/base",
          "model_name": "LayoutModel",
          "model_module_version": "1.2.0",
          "state": {
            "_model_module": "@jupyter-widgets/base",
            "_model_module_version": "1.2.0",
            "_model_name": "LayoutModel",
            "_view_count": null,
            "_view_module": "@jupyter-widgets/base",
            "_view_module_version": "1.2.0",
            "_view_name": "LayoutView",
            "align_content": null,
            "align_items": null,
            "align_self": null,
            "border": null,
            "bottom": null,
            "display": null,
            "flex": null,
            "flex_flow": null,
            "grid_area": null,
            "grid_auto_columns": null,
            "grid_auto_flow": null,
            "grid_auto_rows": null,
            "grid_column": null,
            "grid_gap": null,
            "grid_row": null,
            "grid_template_areas": null,
            "grid_template_columns": null,
            "grid_template_rows": null,
            "height": null,
            "justify_content": null,
            "justify_items": null,
            "left": null,
            "margin": null,
            "max_height": null,
            "max_width": null,
            "min_height": null,
            "min_width": null,
            "object_fit": null,
            "object_position": null,
            "order": null,
            "overflow": null,
            "overflow_x": null,
            "overflow_y": null,
            "padding": null,
            "right": null,
            "top": null,
            "visibility": null,
            "width": null
          }
        },
        "439de278589c4b34865ab2e2d39b1328": {
          "model_module": "@jupyter-widgets/controls",
          "model_name": "DescriptionStyleModel",
          "model_module_version": "1.5.0",
          "state": {
            "_model_module": "@jupyter-widgets/controls",
            "_model_module_version": "1.5.0",
            "_model_name": "DescriptionStyleModel",
            "_view_count": null,
            "_view_module": "@jupyter-widgets/base",
            "_view_module_version": "1.2.0",
            "_view_name": "StyleView",
            "description_width": ""
          }
        },
        "23ef2d2afbd14a2caabe099142a83703": {
          "model_module": "@jupyter-widgets/base",
          "model_name": "LayoutModel",
          "model_module_version": "1.2.0",
          "state": {
            "_model_module": "@jupyter-widgets/base",
            "_model_module_version": "1.2.0",
            "_model_name": "LayoutModel",
            "_view_count": null,
            "_view_module": "@jupyter-widgets/base",
            "_view_module_version": "1.2.0",
            "_view_name": "LayoutView",
            "align_content": null,
            "align_items": null,
            "align_self": null,
            "border": null,
            "bottom": null,
            "display": null,
            "flex": null,
            "flex_flow": null,
            "grid_area": null,
            "grid_auto_columns": null,
            "grid_auto_flow": null,
            "grid_auto_rows": null,
            "grid_column": null,
            "grid_gap": null,
            "grid_row": null,
            "grid_template_areas": null,
            "grid_template_columns": null,
            "grid_template_rows": null,
            "height": null,
            "justify_content": null,
            "justify_items": null,
            "left": null,
            "margin": null,
            "max_height": null,
            "max_width": null,
            "min_height": null,
            "min_width": null,
            "object_fit": null,
            "object_position": null,
            "order": null,
            "overflow": null,
            "overflow_x": null,
            "overflow_y": null,
            "padding": null,
            "right": null,
            "top": null,
            "visibility": null,
            "width": null
          }
        },
        "9f24a28aef134d53b9de89d83563bd0d": {
          "model_module": "@jupyter-widgets/controls",
          "model_name": "ProgressStyleModel",
          "model_module_version": "1.5.0",
          "state": {
            "_model_module": "@jupyter-widgets/controls",
            "_model_module_version": "1.5.0",
            "_model_name": "ProgressStyleModel",
            "_view_count": null,
            "_view_module": "@jupyter-widgets/base",
            "_view_module_version": "1.2.0",
            "_view_name": "StyleView",
            "bar_color": null,
            "description_width": ""
          }
        },
        "0dbe5debe06d468d8419ce6576f034c7": {
          "model_module": "@jupyter-widgets/controls",
          "model_name": "VBoxModel",
          "model_module_version": "1.5.0",
          "state": {
            "_dom_classes": [],
            "_model_module": "@jupyter-widgets/controls",
            "_model_module_version": "1.5.0",
            "_model_name": "VBoxModel",
            "_view_count": null,
            "_view_module": "@jupyter-widgets/controls",
            "_view_module_version": "1.5.0",
            "_view_name": "VBoxView",
            "box_style": "",
            "children": [
              "IPY_MODEL_b37db8ee31074fc4a742bbe1b8ed13e8",
              "IPY_MODEL_61507f99709b45e0bc6b554fb77dfa1e"
            ],
            "layout": "IPY_MODEL_e1f16ce1691944a88f92da7a286f4784"
          }
        },
        "b37db8ee31074fc4a742bbe1b8ed13e8": {
          "model_module": "@jupyter-widgets/controls",
          "model_name": "LabelModel",
          "model_module_version": "1.5.0",
          "state": {
            "_dom_classes": [],
            "_model_module": "@jupyter-widgets/controls",
            "_model_module_version": "1.5.0",
            "_model_name": "LabelModel",
            "_view_count": null,
            "_view_module": "@jupyter-widgets/controls",
            "_view_module_version": "1.5.0",
            "_view_name": "LabelView",
            "description": "",
            "description_tooltip": null,
            "layout": "IPY_MODEL_7fda98c159bb44fb8e998e7a7e30ed32",
            "placeholder": "​",
            "style": "IPY_MODEL_e3c6936931b34489bb03bc3d3b0c047b",
            "value": "0.001 MB of 0.001 MB uploaded (0.000 MB deduped)\r"
          }
        },
        "61507f99709b45e0bc6b554fb77dfa1e": {
          "model_module": "@jupyter-widgets/controls",
          "model_name": "FloatProgressModel",
          "model_module_version": "1.5.0",
          "state": {
            "_dom_classes": [],
            "_model_module": "@jupyter-widgets/controls",
            "_model_module_version": "1.5.0",
            "_model_name": "FloatProgressModel",
            "_view_count": null,
            "_view_module": "@jupyter-widgets/controls",
            "_view_module_version": "1.5.0",
            "_view_name": "ProgressView",
            "bar_style": "",
            "description": "",
            "description_tooltip": null,
            "layout": "IPY_MODEL_79fd117dcc064abab839be56c20933cd",
            "max": 1,
            "min": 0,
            "orientation": "horizontal",
            "style": "IPY_MODEL_1b1ee17b4ffc46e197fe250b273adb9c",
            "value": 1
          }
        },
        "e1f16ce1691944a88f92da7a286f4784": {
          "model_module": "@jupyter-widgets/base",
          "model_name": "LayoutModel",
          "model_module_version": "1.2.0",
          "state": {
            "_model_module": "@jupyter-widgets/base",
            "_model_module_version": "1.2.0",
            "_model_name": "LayoutModel",
            "_view_count": null,
            "_view_module": "@jupyter-widgets/base",
            "_view_module_version": "1.2.0",
            "_view_name": "LayoutView",
            "align_content": null,
            "align_items": null,
            "align_self": null,
            "border": null,
            "bottom": null,
            "display": null,
            "flex": null,
            "flex_flow": null,
            "grid_area": null,
            "grid_auto_columns": null,
            "grid_auto_flow": null,
            "grid_auto_rows": null,
            "grid_column": null,
            "grid_gap": null,
            "grid_row": null,
            "grid_template_areas": null,
            "grid_template_columns": null,
            "grid_template_rows": null,
            "height": null,
            "justify_content": null,
            "justify_items": null,
            "left": null,
            "margin": null,
            "max_height": null,
            "max_width": null,
            "min_height": null,
            "min_width": null,
            "object_fit": null,
            "object_position": null,
            "order": null,
            "overflow": null,
            "overflow_x": null,
            "overflow_y": null,
            "padding": null,
            "right": null,
            "top": null,
            "visibility": null,
            "width": null
          }
        },
        "7fda98c159bb44fb8e998e7a7e30ed32": {
          "model_module": "@jupyter-widgets/base",
          "model_name": "LayoutModel",
          "model_module_version": "1.2.0",
          "state": {
            "_model_module": "@jupyter-widgets/base",
            "_model_module_version": "1.2.0",
            "_model_name": "LayoutModel",
            "_view_count": null,
            "_view_module": "@jupyter-widgets/base",
            "_view_module_version": "1.2.0",
            "_view_name": "LayoutView",
            "align_content": null,
            "align_items": null,
            "align_self": null,
            "border": null,
            "bottom": null,
            "display": null,
            "flex": null,
            "flex_flow": null,
            "grid_area": null,
            "grid_auto_columns": null,
            "grid_auto_flow": null,
            "grid_auto_rows": null,
            "grid_column": null,
            "grid_gap": null,
            "grid_row": null,
            "grid_template_areas": null,
            "grid_template_columns": null,
            "grid_template_rows": null,
            "height": null,
            "justify_content": null,
            "justify_items": null,
            "left": null,
            "margin": null,
            "max_height": null,
            "max_width": null,
            "min_height": null,
            "min_width": null,
            "object_fit": null,
            "object_position": null,
            "order": null,
            "overflow": null,
            "overflow_x": null,
            "overflow_y": null,
            "padding": null,
            "right": null,
            "top": null,
            "visibility": null,
            "width": null
          }
        },
        "e3c6936931b34489bb03bc3d3b0c047b": {
          "model_module": "@jupyter-widgets/controls",
          "model_name": "DescriptionStyleModel",
          "model_module_version": "1.5.0",
          "state": {
            "_model_module": "@jupyter-widgets/controls",
            "_model_module_version": "1.5.0",
            "_model_name": "DescriptionStyleModel",
            "_view_count": null,
            "_view_module": "@jupyter-widgets/base",
            "_view_module_version": "1.2.0",
            "_view_name": "StyleView",
            "description_width": ""
          }
        },
        "79fd117dcc064abab839be56c20933cd": {
          "model_module": "@jupyter-widgets/base",
          "model_name": "LayoutModel",
          "model_module_version": "1.2.0",
          "state": {
            "_model_module": "@jupyter-widgets/base",
            "_model_module_version": "1.2.0",
            "_model_name": "LayoutModel",
            "_view_count": null,
            "_view_module": "@jupyter-widgets/base",
            "_view_module_version": "1.2.0",
            "_view_name": "LayoutView",
            "align_content": null,
            "align_items": null,
            "align_self": null,
            "border": null,
            "bottom": null,
            "display": null,
            "flex": null,
            "flex_flow": null,
            "grid_area": null,
            "grid_auto_columns": null,
            "grid_auto_flow": null,
            "grid_auto_rows": null,
            "grid_column": null,
            "grid_gap": null,
            "grid_row": null,
            "grid_template_areas": null,
            "grid_template_columns": null,
            "grid_template_rows": null,
            "height": null,
            "justify_content": null,
            "justify_items": null,
            "left": null,
            "margin": null,
            "max_height": null,
            "max_width": null,
            "min_height": null,
            "min_width": null,
            "object_fit": null,
            "object_position": null,
            "order": null,
            "overflow": null,
            "overflow_x": null,
            "overflow_y": null,
            "padding": null,
            "right": null,
            "top": null,
            "visibility": null,
            "width": null
          }
        },
        "1b1ee17b4ffc46e197fe250b273adb9c": {
          "model_module": "@jupyter-widgets/controls",
          "model_name": "ProgressStyleModel",
          "model_module_version": "1.5.0",
          "state": {
            "_model_module": "@jupyter-widgets/controls",
            "_model_module_version": "1.5.0",
            "_model_name": "ProgressStyleModel",
            "_view_count": null,
            "_view_module": "@jupyter-widgets/base",
            "_view_module_version": "1.2.0",
            "_view_name": "StyleView",
            "bar_color": null,
            "description_width": ""
          }
        }
      }
    }
  },
  "nbformat": 4,
  "nbformat_minor": 0
}